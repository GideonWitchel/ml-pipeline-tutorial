{
 "cells": [
  {
   "cell_type": "markdown",
   "metadata": {},
   "source": [
    "# Decision Tree Tutorial\n",
    "### What is an algorithm?\n",
    "An algorithm takes inputs and generate outputs.\n",
    "### What is a Machine Learning Model?\n",
    "In some algorithms, the programmer manually creates the logic which converts inputs to ouputs. In these traditional models, the algorithm is created by the programmer, tested and verified by the programmer, and then used.\n",
    "\n",
    "A ML model is a type of algorithm. In ML models, the algorithm is created via training and testing, and then used via inference. These steps look differet for different ML models. They will make sense through examples.\n",
    "### What is a decision tree?\n",
    "A decision tree is a type of ML model. In a decision tree, inputs are \"roots\". The roots pass data along a \"tree\" of decision nodes. Each decision node will do some math on the inputs (add, subtract, multiply, or divide in relation to another input and/or in relation to a constant). Each decision node will then pass on its output to the next decision node, until it reaches a node with no children, which is called a terminal node. In this way, a decision tree is a directed acyclic graph (DAG) where each root has input, each internal node has logic, and each leaf has output.\n",
    "\n",
    "![Visual representation of a decision tree](assets/decision-tree.png)\n",
    "\n",
    "When the decision tree is initialized, there are a set of parameters defined by the programmer. These include the number of inputs, number of internal nodes, number of leaves, and sometimes the specific connections between those nodes. The logic in the internal nodes is also defined as a parameter, but it is often completely random.\n",
    "### Training\n",
    "To train the tree, the model needs training data. This is a set of pairs of inputs and ouputs that are verified to be correct. For example, if the decision tree were trying to predict college GPA from high school GPA, the training data would consist of pairs of high school GPA and college GPA. The model is fed inputs, and the ouputs are checked against the correct, expected outputs. Based on how far off the output is from the expected output, the decision tree can gague how accurate it is. If the model is inaccurate, the logic in internal nodes will be randomized a lot, and the model will train on the next piece of data. If the model is not very inaccurate, the logic in internal nodes will be randomized a little, and the model will train on the next piece of data. Each time, the model gets closer and closer to being correct. This process will continue until the training data is exhausted.\n",
    "\n",
    "### Testing\n",
    "To test the tree, the programmer will get a fresh set of inputs and ouputs. These must be distinct from the training set. The programmer will then measure the percent of times the model gets the correct answer. That is the accuracy of the model. Because this algorithm is probibalistic, it will almost never be 100% correct; it will just be close enough.\n",
    "\n",
    "### Inference\n",
    "Once the model is trained and tested, it can be fed new inputs with unknown ouputs. It will then give a prediction. The programmer can judge how useful that prediction is based on the accuracy of the model as measured in testing.\n",
    "\n",
    "### Data types\n",
    "Decision trees can be categorical or regressive. Categorical trees try to fit inputs into categorical ouputs. For example, take in an image and predict if it is a cat or a dog. Regressive trees try to take a number and output a different number; for example, high school and college GPA as explained above."
   ]
  },
  {
   "cell_type": "markdown",
   "metadata": {},
   "source": [
    "# Decision Tree Exercise\n",
    "### SciKit Learn\n",
    "SciKit learn is a useful set of ML tools provided in python. It has premade models, datasets, and functions to train and evaluate ML models.\n",
    "\n",
    "To get started, lets' import scikit, load an example dataset, train a decision tree classifier, run a test set, and then evaluate the accuracy of the model.\n",
    "\n",
    "If you try to import scikit and python errors with \"No module named 'sklearn', install sklearn with 'pip install scikit-learn' in the terminal."
   ]
  },
  {
   "cell_type": "code",
   "execution_count": null,
   "metadata": {},
   "outputs": [],
   "source": [
    "# Our dataset which contains data about petals and sepals for different types of flowers\n",
    "from sklearn.datasets import load_iris\n",
    "# A function which splits data into training data and testing data\n",
    "from sklearn.model_selection import train_test_split\n",
    "# The decision tree\n",
    "from sklearn.tree import DecisionTreeClassifier\n",
    "# A function for evaluating the accuracy of a ML model\n",
    "from sklearn.metrics import accuracy_score"
   ]
  },
  {
   "cell_type": "code",
   "execution_count": null,
   "metadata": {},
   "outputs": [],
   "source": [
    "# Load data\n",
    "iris = load_iris()\n",
    "X = iris.data\n",
    "y = iris.target\n",
    "\n",
    "# This will exceed the size limit for Jupyter to print, but gives a sense of the data\n",
    "print(X)\n",
    "print(y)"
   ]
  },
  {
   "cell_type": "code",
   "execution_count": null,
   "metadata": {},
   "outputs": [],
   "source": [
    "# Split the data into train and test sets, with 20% going to the test set and 80% going to the training set\n",
    "X_train, X_test, y_train, y_test = train_test_split(X, y, test_size=0.2, random_state=42)"
   ]
  },
  {
   "cell_type": "code",
   "execution_count": null,
   "metadata": {},
   "outputs": [],
   "source": [
    "# Initialize the decision tree\n",
    "# max_depth is the maximum number of internal nodes before a leaf must be generated. \n",
    "# max_depth helps limit the computation required to train the model.\n",
    "# Higher max_depth generally leads to a better model.\n",
    "# random_state defines the initial random state of the model.\n",
    "# Try changing random_state and see how it affects accuracy later in the demonstration.\n",
    "model = DecisionTreeClassifier(max_depth=1, random_state=4)"
   ]
  },
  {
   "cell_type": "code",
   "execution_count": null,
   "metadata": {},
   "outputs": [],
   "source": [
    "# Train the model\n",
    "model.fit(X_train, y_train)"
   ]
  },
  {
   "cell_type": "code",
   "execution_count": null,
   "metadata": {},
   "outputs": [],
   "source": [
    "# Test the model\n",
    "y_prediction = model.predict(X_test)\n",
    "# Compare the test ouput to our expected output\n",
    "accuracy = accuracy_score(y_test, y_prediction)\n",
    "print(f\"The model has an accuracy score of {accuracy}\")"
   ]
  },
  {
   "cell_type": "markdown",
   "metadata": {},
   "source": [
    "# Exploration questions\n",
    "### What is the model's accuracy at a max_depth of 1? 2? 3? 4? 5? 99?\n",
    "\n",
    "\n",
    "### How does changing random_state change (or not change) the model's accuracy? Why do you think that may be?\n",
    "\n",
    "\n",
    "### What happens when you increase test_size from 0.2 to 0.5? 0.8?"
   ]
  },
  {
   "cell_type": "markdown",
   "metadata": {},
   "source": [
    "# Generating your own model\n",
    "\n",
    "### Outline\n",
    "You will train a decision tree model on scikit-learn's diabetes dataset. This is a regression problem, unlike iris (above), which was a classification (categorial) problem.\n",
    "\n",
    "Remember, the basic steps are:\n",
    "- Import required libraries\n",
    "- Prep data (split into training and testing)\n",
    "- Train model\n",
    "- Test model\n",
    "- Compare test output to expected output"
   ]
  },
  {
   "cell_type": "code",
   "execution_count": null,
   "metadata": {},
   "outputs": [],
   "source": [
    "# Have fun!\n",
    "from sklearn.datasets import load_diabetes\n"
   ]
  }
 ],
 "metadata": {
  "interpreter": {
   "hash": "81794d4967e6c3204c66dcd87b604927b115b27c00565d3d43f05ba2f3a2cb0d"
  },
  "kernelspec": {
   "display_name": "Python 3.9.6 64-bit",
   "language": "python",
   "name": "python3"
  },
  "language_info": {
   "codemirror_mode": {
    "name": "ipython",
    "version": 3
   },
   "file_extension": ".py",
   "mimetype": "text/x-python",
   "name": "python",
   "nbconvert_exporter": "python",
   "pygments_lexer": "ipython3",
   "version": "3.10.12"
  },
  "orig_nbformat": 4
 },
 "nbformat": 4,
 "nbformat_minor": 2
}
