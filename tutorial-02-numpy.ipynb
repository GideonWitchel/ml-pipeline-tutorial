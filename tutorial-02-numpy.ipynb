{
 "cells": [
  {
   "cell_type": "markdown",
   "metadata": {},
   "source": [
    "# Numpy Tutorial\n",
    "### What is Numpy?\n",
    "Numpy is a python library for managing big data. Big data is just large sets of data. Python is a scripting language designed to be easily written. Because of this, underlying data storage is very innefficient. When storing and manipulating large quantities of data, this can become a problem; execution takes a long time and requiers hundreds of gigabytes (if not terabytes) of memory. Numpy is a solution which stores data in optimized arrays, while still providing a simple interface for interaction and manipulation.\n",
    "\n",
    "### What is an array?\n",
    "An array is a list of data. Arrays have 'dimensions', which are similar to dimensions in math. A 1 dimensional (1D) array has numbers in a line. This looks like [0,1,2,3,4]. A 2 dimensional (2D) array has numbers in a plane. This looks like: [[ 0,  1,  2,  3,  4], [ 5,  6,  7,  8,  9], [10, 11, 12, 13, 14]]. The beauty of numpy is n-dimensional arrays. While it becomes hard to visualize, numpy allows 3D, 4D, or 99D arrays. This is useful for complex algorithms.\n",
    "\n",
    "### Array shape\n",
    "Array shape is just a way of representing the size of the array in all of its dimensions. For the example 2D array above, it has a shape of (3,5), because it is a 3 row by 5 column array. A 3D array's shape would have 3 numbers, and so on."
   ]
  },
  {
   "cell_type": "code",
   "execution_count": null,
   "metadata": {},
   "outputs": [],
   "source": [
    "# Experiment with changing the array and seeing how it\n",
    "# affects the shape. Can you make it (5, 3)? Can you make\n",
    "# it only 1 number, or can you make it 3 numbers?\n",
    "\n",
    "import numpy as np\n",
    "a = np.array([[ 0,  1,  2,  3,  4],\n",
    "              [ 5,  6,  7,  8,  9],\n",
    "              [10, 11, 12, 13, 14]])\n",
    "\n",
    "print(a.shape)"
   ]
  },
  {
   "cell_type": "markdown",
   "metadata": {},
   "source": [
    "### Data in Arrays\n",
    "Numpy arrays don't have to be filled with integers. They can have strings, doubles, or any other data type. The array is smart, and knows what data type it is storing."
   ]
  },
  {
   "cell_type": "code",
   "execution_count": null,
   "metadata": {},
   "outputs": [],
   "source": [
    "# Note that I am not importiny numpy again.\n",
    "# Jupyter notebook has cached the import from\n",
    "# the first cell. If this is the first cell you\n",
    "# run, it will error, and you will have to run\n",
    "# the first cell first. It is generally good practice\n",
    "# to put all imports in a cell at the top of the document\n",
    "# that is run when the document is opened, no matter which\n",
    "# cell is going to be run afterwards. For all future tutorials,\n",
    "# that will be the case.\n",
    "\n",
    "# Try storing differnet types of data. Python does interesting\n",
    "# things with data. A string will show up as <U5, which is\n",
    "# a type of unicode. Can you get <U4 or <U1? What about float64?\n",
    "b = np.array([1])\n",
    "\n",
    "print(b.shape)\n",
    "# dtype stands for data type\n",
    "print(b.dtype)"
   ]
  },
  {
   "cell_type": "markdown",
   "metadata": {},
   "source": [
    "If you want to define a specific datatype (like if you are only storing small numbers and want to store them in int16 instead of the default int64, you can specify that when the array is created.)\n",
    "\n",
    "You can see a list of types at https://numpy.org/doc/stable/user/basics.types.html"
   ]
  },
  {
   "cell_type": "code",
   "execution_count": null,
   "metadata": {},
   "outputs": [],
   "source": [
    "c = np.array([1], dtype=np.short)\n",
    "print(c.dtype)"
   ]
  },
  {
   "cell_type": "markdown",
   "metadata": {},
   "source": [
    "### Generating arrays\n",
    "Arrays can be generated in multiple ways. One is manually, from numbers typed into the code, which is how all the arrays in this file have been defined so far. When creating arrays manually, np.array() must be passed a *single* argument. That is why all dimensions necessitate a set of square brackets to enclose them.\n",
    "\n",
    "Arrays can be automatically generated with various commands. There are demos of select routines below. You can see a full list at https://numpy.org/doc/stable/reference/routines.array-creation.html"
   ]
  },
  {
   "cell_type": "code",
   "execution_count": null,
   "metadata": {},
   "outputs": [],
   "source": [
    "# np.arange(start, stop, step) generates evenly\n",
    "# spaced values between the half open interval\n",
    "# [start, stop) with the step size of step.\n",
    "print(np.arange(2,10,2))"
   ]
  },
  {
   "cell_type": "code",
   "execution_count": null,
   "metadata": {},
   "outputs": [],
   "source": [
    "# start defaults as 0. step defaults as 1.\n",
    "# stop has no default and must be defined.\n",
    "print(np.arange(5))"
   ]
  },
  {
   "cell_type": "code",
   "execution_count": null,
   "metadata": {},
   "outputs": [],
   "source": [
    "# np.zeros(shape) returns an array filled with 0.\n",
    "\n",
    "# Shape is a single argument, and must be\n",
    "# contained in parentheses.\n",
    "\n",
    "print(np.zeros((3,3)))\n",
    "\n",
    "# The output is filled with 0. because it defaults to\n",
    "# floats. You can specify integers if desired.\n",
    "\n",
    "print()\n",
    "print(np.zeros((3,3), dtype=int))\n",
    "\n",
    "# np.ones does the same thing but fills with 1."
   ]
  },
  {
   "cell_type": "markdown",
   "metadata": {},
   "source": [
    "### Manipulating arrays\n",
    "Numpy arrays are manipulated in the same way that regular arrays are manipulated: with [index]. For numpy, multiple dimensions are defined within the brackets, not as new brackets. For example, [row,col] will access a specific value in a 2D array. To get an entire row [row] works. That is a simplified syntax, though. In reality, numpy is reading [row,:], which means row and all columns (':' represents all). To get a column, the access is [:,col]. The entire synyax is [row_start:row_end,col_start:col_end]. This can expand with more dimensions and more commas."
   ]
  },
  {
   "cell_type": "code",
   "execution_count": null,
   "metadata": {},
   "outputs": [],
   "source": [
    "# the reshape command will transform any shaped\n",
    "# array into any other shaped array, as long as\n",
    "# the total number of elements are the same.\n",
    "d = np.arange(12).reshape(4, 3)\n",
    "print(d,end=\"\\n\\n\")\n",
    "\n",
    "# accessing rows\n",
    "print(d[0,:],end=\"\\n\\n\")\n",
    "\n",
    "# accessing individual items\n",
    "print(d[0,1],end=\"\\n\\n\")\n",
    "\n",
    "# accessing columns\n",
    "print(d[:,1],end=\"\\n\\n\")\n",
    "\n",
    "# mess around with your own commands to access \n",
    "# different segments of the array.\n"
   ]
  },
  {
   "cell_type": "markdown",
   "metadata": {},
   "source": [
    "## Exercise\n",
    "## Numpy exercise\n",
    "\n",
    "Generate the following array in as few commands as possible (without manually initializing the entire array)\n",
    "\n",
    "    [[0,0,0,0,0]\n",
    "    [0,1,1,1,0]\n",
    "    [0,1,5,1,0]\n",
    "    [0,1,1,1,0]\n",
    "    [0,0,0,0,0]]\n",
    "\n",
    "<details>\n",
    "  <summary>Hint 1</summary>\n",
    "  use np.zero and np.ones\n",
    "</details>\n",
    "\n",
    "<details>\n",
    "  <summary>Hint 2</summary>\n",
    "  you can combine different sized arrays\n",
    "</details>\n",
    "\n",
    "<details>\n",
    "  <summary>Hint 3</summary>\n",
    "  remember to set your data type correctly\n",
    "</details>"
   ]
  },
  {
   "cell_type": "code",
   "execution_count": null,
   "metadata": {},
   "outputs": [],
   "source": [
    "# Write your code here"
   ]
  }
 ],
 "metadata": {
  "kernelspec": {
   "display_name": "Python 3",
   "language": "python",
   "name": "python3"
  },
  "language_info": {
   "codemirror_mode": {
    "name": "ipython",
    "version": 3
   },
   "file_extension": ".py",
   "mimetype": "text/x-python",
   "name": "python",
   "nbconvert_exporter": "python",
   "pygments_lexer": "ipython3",
   "version": "3.10.12"
  },
  "orig_nbformat": 4
 },
 "nbformat": 4,
 "nbformat_minor": 2
}
