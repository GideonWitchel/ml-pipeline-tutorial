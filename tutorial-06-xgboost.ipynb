{
 "cells": [
  {
   "cell_type": "markdown",
   "metadata": {},
   "source": [
    "# XGBoost\n",
    "### What is XGBoost?\n",
    "XGBoost stands for Extreme Graident Boosting. It is a highly optimized, distributable, scalable, graident-boosted and bagged decision tree. This is, in most situations, the best version of a decision tree. It is also very new, originating in 2016 with the publication of this paper: https://browse.arxiv.org/pdf/1603.02754.pdf.\n",
    "\n",
    "![A graph depicting model prediction power and training time between models. XGBoost is the most powerful and the second easiest to train, only slower than a simple logistic regression.](assets/tree-performance.png)\n",
    "\n",
    "### How does XGBoost work?\n",
    "XGBoost is significantly more complicated than random forest and gradient boosting. This is one of its only downsides; it is more of a black box. The most significant change in the XGBoost algorithm is that a forest of shallow decision trees are each trained and then frankensteind together to cancel out each others' weaknesses between generations of boosting. This, combined with hardware optimizations and a distributed algorithm, makes XGBoost both faster and more accurate for most workloads.\n",
    "\n",
    "![A history of decision trees and their development](assets/tree-history.png)\n",
    "\n",
    "### How is XGBoost used?\n",
    "\n",
    "XGBoost can be used in any situation where a decision tree, random forest, or boosted tree can be used. It predicts categorizations and regressions."
   ]
  },
  {
   "cell_type": "markdown",
   "metadata": {},
   "source": [
    "# XGBoost Exercise\n",
    "Below is the basic code required to run XGBoost. Using what you've learned in the previous modules, expand that code with the following functionalities:\n",
    "- Train the model on 2 different datasets and compare which dataset is better predicted with the model\n",
    "- Change the model parameters\n",
    "- Run hyperparametarization\n"
   ]
  },
  {
   "cell_type": "code",
   "execution_count": 2,
   "metadata": {},
   "outputs": [
    {
     "name": "stdout",
     "output_type": "stream",
     "text": [
      "The model has an accuracy of 95.833%\n"
     ]
    }
   ],
   "source": [
    "# importing\n",
    "# run 'pip install xgboost' so you have access to the library\n",
    "from xgboost import XGBClassifier\n",
    "from sklearn.model_selection import train_test_split\n",
    "from sklearn.datasets import load_digits\n",
    "\n",
    "# loading and splitting\n",
    "x, y = load_digits(return_X_y=True)\n",
    "train_x, test_x, train_y, test_y = train_test_split(x, y, test_size=0.2, random_state=2)\n",
    "\n",
    "# instantiation\n",
    "model = XGBClassifier()\n",
    "\n",
    "# training\n",
    "model.fit(train_x, train_y)\n",
    "\n",
    "# testing\n",
    "model.predict(test_x)\n",
    "print(f\"The model has an accuracy of {model.score(test_x, test_y)*100:.3f}%\")"
   ]
  }
 ],
 "metadata": {
  "kernelspec": {
   "display_name": "Python 3",
   "language": "python",
   "name": "python3"
  },
  "language_info": {
   "codemirror_mode": {
    "name": "ipython",
    "version": 3
   },
   "file_extension": ".py",
   "mimetype": "text/x-python",
   "name": "python",
   "nbconvert_exporter": "python",
   "pygments_lexer": "ipython3",
   "version": "3.9.6"
  },
  "orig_nbformat": 4
 },
 "nbformat": 4,
 "nbformat_minor": 2
}
