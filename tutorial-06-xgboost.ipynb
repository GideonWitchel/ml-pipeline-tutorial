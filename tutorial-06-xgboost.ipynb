{
 "cells": [
  {
   "cell_type": "markdown",
   "metadata": {},
   "source": [
    "# XGBoost\n",
    "### What is XGBoost?\n",
    "XGBoost stands for Extreme Graident Boosting. It is a highly optimized, distributable, scalable, graident-boosted and bagged decision tree. This is, in most situations, the best version of a decision tree. It is also very new, originating in 2016 with the publication of this paper: https://browse.arxiv.org/pdf/1603.02754.pdf.\n",
    "\n",
    "![A graph depicting model prediction power and training time between models. XGBoost is the most powerful and the second easiest to train, only slower than a simple logistic regression.](assets/tree-performance.png)\n",
    "\n",
    "### How does XGBoost work?\n",
    "XGBoost is significantly more complicated than random forest and gradient boosting. This is one of its only downsides; it is more of a black box. The most significant change in the XGBoost algorithm is that a forest of shallow decision trees are each trained and then frankensteind together to cancel out each others' weaknesses between generations of boosting. This, combined with hardware optimizations and a distributed algorithm, makes XGBoost both faster and more accurate for most workloads.\n",
    "\n",
    "![A history of decision trees and their development](assets/tree-history.png)\n",
    "\n",
    "### How is XGBoost used?\n",
    "\n",
    "XGBoost can be used in any situation where a decision tree, random forest, or boosted tree can be used. It predicts categorizations and regressions."
   ]
  },
  {
   "cell_type": "markdown",
   "metadata": {},
   "source": [
    "# XGBoost Exercise\n"
   ]
  }
 ],
 "metadata": {
  "language_info": {
   "name": "python"
  },
  "orig_nbformat": 4
 },
 "nbformat": 4,
 "nbformat_minor": 2
}
