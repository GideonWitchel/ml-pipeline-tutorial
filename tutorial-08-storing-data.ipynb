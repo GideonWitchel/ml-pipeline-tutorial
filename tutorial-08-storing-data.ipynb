{
 "cells": [
  {
   "cell_type": "markdown",
   "metadata": {},
   "source": [
    "# Storing Data\n",
    "### What is data?\n",
    "Data consists of 1s and 0s. This binary represents all of the information on a computer; all of the text, applications, videos, and pictures are represented by binary on a storage medium.\n",
    "## Consumer Solutions to Data Storage\n",
    "### Physical Disks\n",
    "When there isn't much data to store, data storage is very easy. Most people use a physical drive to store their data. There is a physical drive on a phone, and on a computer. That drive normally has between 256 GB and 4 TB of space on it, which is more than enough for most uses.\n",
    "\n",
    "There are, however, some problems with physical storage mediums. First, they're limited in size. When you need more storage, you need to buy and manage more hard drives, which takes time and effort. Second, they're relatively unsafe. Hard drives get corrupted, and physical damage can permanently destroy your data. Third, they are not easily accessed by more than one person at a time. Fourth, they are not rapidly scalable; buying and configuring hard drives takes time. For all of these reasons, a lot of data gets stored on the cloud.\n",
    "### Consumer Cloud Storage\n",
    "Most people think of cloud storage as Googld Drive or iCloud backups or Dropbox. These are all examples of consumer cloud storage. These services offer relatively small quantities of storage (10 GB to 2 TB), but solve a lot of the problems with physical storage. They are reliable and backed up across many locations automatically. They are accessible anywhere and can be accessed simultaneously. They are easily scalable.\n",
    "\n",
    "The main downsides to consumer cloud storage for consumers are that they require an internet connection and they are more expensive than physical storage. For machine learning applications, however, consumer cloud storage is missing two critical features. First, it is too small. Machine learning workloads often deal with petabytes of data. Second, it does not have good API support for automations. Consumer cloud storage is meant to be interacted with by a person, not by a computer.\n",
    "## Enterprise Solutions to Cloud Storage\n",
    "## Enterprise Cloud Storage\n",
    "There are many enterprise cloud storage services. These provide different storage with different speed, size, and convenience tradeoffs at different price points. Amazon Web Services (AWS) is one of the most popular providors of enterprise cloud storage. Two of the serivces they provide are S3 and EFS.\n",
    "### S3\n",
    "![s3 logo](assets/s3.png)\n",
    "\n",
    "S3 stands for Simple Storage Service. This is an 'object storage service', which means it stores files in a non-heirarchical bucket. This is like every file existing in a single folder. Files can be organized with tags or a heirarchical naming scheme, but they are not stored according to their tags or names.\n",
    "\n",
    "S3 is the most popular static storage solution. It stores files that do not need to be written to often. It is relatively cheap and extremely well supported.\n",
    "\n",
    "S3 has to be interacted with via Amazon's APIs. That means every program or command line action must query S3 using a library Amazon has made. This can make it difficult to interact with S3 like a normal file system, which it isn't designed to do.\n",
    "### EFS\n",
    "![efs logo](assets/efs.png)\n",
    "\n",
    "EFS stands for Elastic File System. EFS is a more expensive but more featureful cloud storage solution. EFS is elastic insofar as it can be mounted on computers as a drive and interacted with like a normal file system with POSIX compliance. EFS handles concurrent reads and writes elegantly. \n",
    "EFS is popular for smaller projects, because it is more expensive than S3. It is useful for data which is constantly being written to and read from. It is also significantly easier to manage than S3, because it is organized in a heirarchichal namespace and can be mounted.\n",
    "### Comparing and Contrasting S3 and EFS\n",
    "S3 is good for huge stores of data which are mostly read. For ML workloads, this would be the training data. This minimizes costs and ensures availability and reliability of data.\n",
    "\n",
    "EFS is good for randomly accessed and often-read data. For ML workloads, this would be training outputs and inference files. This ensures efficient, easy programming, availability, and reliability, without incurring enormous logistical costs.\n",
    "\n",
    "For personal projects, local storage is normally good enough. Still, knowing the enterprise options is helpful, because it imparts an understanding of storage tradeoffs. \n"
   ]
  }
 ],
 "metadata": {
  "language_info": {
   "name": "python"
  }
 },
 "nbformat": 4,
 "nbformat_minor": 2
}
