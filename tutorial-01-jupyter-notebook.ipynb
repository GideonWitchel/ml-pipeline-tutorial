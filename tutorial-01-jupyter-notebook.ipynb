{
 "cells": [
  {
   "cell_type": "markdown",
   "metadata": {},
   "source": [
    "# Jupyter Notebook Tutorial\n",
    "### What is Jupyter Notebook?\n",
    "Jupyter Notebook is a piece of software for easily integrating markdown instructions and \"code cells\" which can execute python code. Jupyter notebook files (like the one you are currently reading) are orgnized into cells, which are segments of text. Cells can be markdown, python, or other languages. Each cell is interpreted by its respective compiler / interpreter.\n",
    "\n",
    "Markdown cells are relatively straightforward. Write text in markdown, and then render it.\n",
    "\n",
    "Python cells are a little more complicated. Python cells contain code. You can run the cells in a document in any order. Jupyter Notebook caches data for cells in a document, so if you set a viarable in one cell (or import a module in one cell), that will be accessible in all other cells. Sometimes the data gets deleted, at which point you should re-run the cell when generated its value.\n",
    "\n",
    "All Jupyer notebooks are JSON files in their underlying implementation, but they are made pretty by the software which displays them. It is nice to open Jupyter notebooks with VS Code, because VS code has extensions which allow easy display and interaction with Jupyter Notebook files. You can identify a Jupyter Notebook file by its file extension: .ipynb"
   ]
  },
  {
   "cell_type": "code",
   "execution_count": null,
   "metadata": {},
   "outputs": [],
   "source": [
    "message = \"This is an example of a python cell!\"\n",
    "print(message)"
   ]
  },
  {
   "cell_type": "markdown",
   "metadata": {},
   "source": [
    "This is an example of a markdown cell!"
   ]
  },
  {
   "cell_type": "markdown",
   "metadata": {},
   "source": [
    "### Running Cells\n",
    "You can run a python cell by hovering over it and clicking the play button which appears on the left hand side of the cell. This will execute the cell top down like a python file. The output will appear in a box below the code.\n",
    "\n",
    "Execute the code in the box below. When you first press run in a file, you will have to select a python kernel to interpret the code. Select \"Python Environments\" and then the most recent Python version (it should be 3.X)."
   ]
  },
  {
   "cell_type": "code",
   "execution_count": null,
   "metadata": {},
   "outputs": [],
   "source": [
    "# Run Me!\n",
    "a = 2\n",
    "b = 5\n",
    "print(f\"The sum of {a} and {b} is {a+b}\")"
   ]
  },
  {
   "cell_type": "markdown",
   "metadata": {},
   "source": [
    "### Dealing with Failure\n",
    "Code sometimes doesn't work. You can re-run the cell by clicking the run icon again. If you want to clear an output without running again, you can click the \"clear all outputs\" button at the top of the page. This won't clear cached variables; to reset everything, click the \"restart\" button at the top of the page."
   ]
  },
  {
   "cell_type": "code",
   "execution_count": null,
   "metadata": {},
   "outputs": [],
   "source": [
    "# Run this once. Then change the variable \"a\" so it no longer fails.\n",
    "\n",
    "a = 5\n",
    "assert a == 1"
   ]
  },
  {
   "cell_type": "markdown",
   "metadata": {},
   "source": [
    "### Debugging\n",
    "Jupyter notebook is not designed for extreme performance debugging; neither is python. There is basic debugging provided by clicking the dropdown arrow by the run play button and then clicking debug cell. For this to be different than normal code execution, you must set breakpoints."
   ]
  },
  {
   "cell_type": "code",
   "execution_count": null,
   "metadata": {},
   "outputs": [],
   "source": [
    "# Try stopping this at different points in the code to see what values \"a\" is set to.\n",
    "\n",
    "a = 5\n",
    "a = a/6.8\n",
    "a = a*11\n",
    "a = a+17\n",
    "print(a)"
   ]
  },
  {
   "cell_type": "markdown",
   "metadata": {},
   "source": [
    "## Exercises\n",
    "\n",
    "### Using Jupyter Notebook\n",
    "\n",
    "Create a markdown cell and 2 code cells. In the first code cell, define a variable. In the second code cell, write a print statement which prints a variable. Run the code cells in different orders, resetting in-between. Figure out what situations cause the print statement to fail. Write about it in the markdown cell."
   ]
  }
 ],
 "metadata": {
  "kernelspec": {
   "display_name": "Python 3",
   "language": "python",
   "name": "python3"
  },
  "language_info": {
   "codemirror_mode": {
    "name": "ipython",
    "version": 3
   },
   "file_extension": ".py",
   "mimetype": "text/x-python",
   "name": "python",
   "nbconvert_exporter": "python",
   "pygments_lexer": "ipython3",
   "version": "3.10.12"
  },
  "orig_nbformat": 4
 },
 "nbformat": 4,
 "nbformat_minor": 2
}
